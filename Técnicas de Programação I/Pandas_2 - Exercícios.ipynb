{
 "cells": [
  {
   "cell_type": "markdown",
   "id": "909de1ed-846b-41f6-946f-bf8922c8c709",
   "metadata": {},
   "source": [
    "1. Considere a existência de três tabelas distintas:\n",
    "* customer.csv : Possui a informação dos clientes em duas colunas: customer id  customer name\n",
    "* products.csv : Contém informação dos produtos vendidos pela empresa em três colunas - p_id (product id), product (name) e price\n",
    "* sales.csv : Contém informações das vendas realizadas em seis colunas - sale_id, c_id (customer id), p_id (product_id), qty (quantity sold), store (name)\n",
    "\n",
    "Conhecendo as bases responda:\n",
    "\n",
    "a) Quais foram os produtos vendidos? \n"
   ]
  },
  {
   "cell_type": "code",
   "execution_count": 61,
   "id": "e82dec2b-ccdb-4f93-899a-eac4ccaac3de",
   "metadata": {},
   "outputs": [
    {
     "data": {
      "text/html": [
       "<div>\n",
       "<style scoped>\n",
       "    .dataframe tbody tr th:only-of-type {\n",
       "        vertical-align: middle;\n",
       "    }\n",
       "\n",
       "    .dataframe tbody tr th {\n",
       "        vertical-align: top;\n",
       "    }\n",
       "\n",
       "    .dataframe thead th {\n",
       "        text-align: right;\n",
       "    }\n",
       "</style>\n",
       "<table border=\"1\" class=\"dataframe\">\n",
       "  <thead>\n",
       "    <tr style=\"text-align: right;\">\n",
       "      <th></th>\n",
       "      <th>c_id</th>\n",
       "      <th>Customer</th>\n",
       "    </tr>\n",
       "  </thead>\n",
       "  <tbody>\n",
       "    <tr>\n",
       "      <th>0</th>\n",
       "      <td>1</td>\n",
       "      <td>Rabi</td>\n",
       "    </tr>\n",
       "    <tr>\n",
       "      <th>1</th>\n",
       "      <td>2</td>\n",
       "      <td>Raju</td>\n",
       "    </tr>\n",
       "    <tr>\n",
       "      <th>2</th>\n",
       "      <td>3</td>\n",
       "      <td>Alex</td>\n",
       "    </tr>\n",
       "    <tr>\n",
       "      <th>3</th>\n",
       "      <td>4</td>\n",
       "      <td>Rani</td>\n",
       "    </tr>\n",
       "    <tr>\n",
       "      <th>4</th>\n",
       "      <td>5</td>\n",
       "      <td>King</td>\n",
       "    </tr>\n",
       "    <tr>\n",
       "      <th>5</th>\n",
       "      <td>7</td>\n",
       "      <td>Ronn</td>\n",
       "    </tr>\n",
       "    <tr>\n",
       "      <th>6</th>\n",
       "      <td>8</td>\n",
       "      <td>Jem</td>\n",
       "    </tr>\n",
       "    <tr>\n",
       "      <th>7</th>\n",
       "      <td>9</td>\n",
       "      <td>Tom</td>\n",
       "    </tr>\n",
       "  </tbody>\n",
       "</table>\n",
       "</div>"
      ],
      "text/plain": [
       "   c_id Customer\n",
       "0     1     Rabi\n",
       "1     2     Raju\n",
       "2     3     Alex\n",
       "3     4     Rani\n",
       "4     5     King\n",
       "5     7     Ronn\n",
       "6     8      Jem\n",
       "7     9      Tom"
      ]
     },
     "execution_count": 61,
     "metadata": {},
     "output_type": "execute_result"
    }
   ],
   "source": [
    "import pandas as pd\n",
    "\n",
    "customer = pd.read_csv('./data/customer.csv')\n",
    "customer"
   ]
  },
  {
   "cell_type": "code",
   "execution_count": 62,
   "id": "1532f76b-8314-4da9-89de-acfa4725798b",
   "metadata": {},
   "outputs": [
    {
     "data": {
      "text/html": [
       "<div>\n",
       "<style scoped>\n",
       "    .dataframe tbody tr th:only-of-type {\n",
       "        vertical-align: middle;\n",
       "    }\n",
       "\n",
       "    .dataframe tbody tr th {\n",
       "        vertical-align: top;\n",
       "    }\n",
       "\n",
       "    .dataframe thead th {\n",
       "        text-align: right;\n",
       "    }\n",
       "</style>\n",
       "<table border=\"1\" class=\"dataframe\">\n",
       "  <thead>\n",
       "    <tr style=\"text-align: right;\">\n",
       "      <th></th>\n",
       "      <th>p_id</th>\n",
       "      <th>product</th>\n",
       "      <th>price</th>\n",
       "    </tr>\n",
       "  </thead>\n",
       "  <tbody>\n",
       "    <tr>\n",
       "      <th>0</th>\n",
       "      <td>1</td>\n",
       "      <td>Hard Disk</td>\n",
       "      <td>80</td>\n",
       "    </tr>\n",
       "    <tr>\n",
       "      <th>1</th>\n",
       "      <td>2</td>\n",
       "      <td>RAM</td>\n",
       "      <td>90</td>\n",
       "    </tr>\n",
       "    <tr>\n",
       "      <th>2</th>\n",
       "      <td>3</td>\n",
       "      <td>Monitor</td>\n",
       "      <td>75</td>\n",
       "    </tr>\n",
       "    <tr>\n",
       "      <th>3</th>\n",
       "      <td>4</td>\n",
       "      <td>CPU</td>\n",
       "      <td>55</td>\n",
       "    </tr>\n",
       "    <tr>\n",
       "      <th>4</th>\n",
       "      <td>5</td>\n",
       "      <td>Keyboard</td>\n",
       "      <td>20</td>\n",
       "    </tr>\n",
       "    <tr>\n",
       "      <th>5</th>\n",
       "      <td>6</td>\n",
       "      <td>Mouse</td>\n",
       "      <td>10</td>\n",
       "    </tr>\n",
       "    <tr>\n",
       "      <th>6</th>\n",
       "      <td>7</td>\n",
       "      <td>Motherboard</td>\n",
       "      <td>50</td>\n",
       "    </tr>\n",
       "    <tr>\n",
       "      <th>7</th>\n",
       "      <td>8</td>\n",
       "      <td>Power supply</td>\n",
       "      <td>20</td>\n",
       "    </tr>\n",
       "  </tbody>\n",
       "</table>\n",
       "</div>"
      ],
      "text/plain": [
       "   p_id       product  price\n",
       "0     1     Hard Disk     80\n",
       "1     2           RAM     90\n",
       "2     3       Monitor     75\n",
       "3     4           CPU     55\n",
       "4     5      Keyboard     20\n",
       "5     6         Mouse     10\n",
       "6     7   Motherboard     50\n",
       "7     8  Power supply     20"
      ]
     },
     "execution_count": 62,
     "metadata": {},
     "output_type": "execute_result"
    }
   ],
   "source": [
    "products = pd.read_csv('./data/products.csv')\n",
    "products"
   ]
  },
  {
   "cell_type": "code",
   "execution_count": 63,
   "id": "72dcf858-b84f-45f2-947f-fb638589bcbd",
   "metadata": {},
   "outputs": [
    {
     "data": {
      "text/html": [
       "<div>\n",
       "<style scoped>\n",
       "    .dataframe tbody tr th:only-of-type {\n",
       "        vertical-align: middle;\n",
       "    }\n",
       "\n",
       "    .dataframe tbody tr th {\n",
       "        vertical-align: top;\n",
       "    }\n",
       "\n",
       "    .dataframe thead th {\n",
       "        text-align: right;\n",
       "    }\n",
       "</style>\n",
       "<table border=\"1\" class=\"dataframe\">\n",
       "  <thead>\n",
       "    <tr style=\"text-align: right;\">\n",
       "      <th></th>\n",
       "      <th>sale_id</th>\n",
       "      <th>c_id</th>\n",
       "      <th>p_id</th>\n",
       "      <th>product</th>\n",
       "      <th>qty</th>\n",
       "      <th>store</th>\n",
       "    </tr>\n",
       "  </thead>\n",
       "  <tbody>\n",
       "    <tr>\n",
       "      <th>0</th>\n",
       "      <td>1</td>\n",
       "      <td>2</td>\n",
       "      <td>3</td>\n",
       "      <td>Monitor</td>\n",
       "      <td>2</td>\n",
       "      <td>ABC</td>\n",
       "    </tr>\n",
       "    <tr>\n",
       "      <th>1</th>\n",
       "      <td>2</td>\n",
       "      <td>2</td>\n",
       "      <td>4</td>\n",
       "      <td>CPU</td>\n",
       "      <td>1</td>\n",
       "      <td>DEF</td>\n",
       "    </tr>\n",
       "    <tr>\n",
       "      <th>2</th>\n",
       "      <td>3</td>\n",
       "      <td>1</td>\n",
       "      <td>3</td>\n",
       "      <td>Monitor</td>\n",
       "      <td>3</td>\n",
       "      <td>ABC</td>\n",
       "    </tr>\n",
       "    <tr>\n",
       "      <th>3</th>\n",
       "      <td>4</td>\n",
       "      <td>4</td>\n",
       "      <td>2</td>\n",
       "      <td>RAM</td>\n",
       "      <td>2</td>\n",
       "      <td>DEF</td>\n",
       "    </tr>\n",
       "    <tr>\n",
       "      <th>4</th>\n",
       "      <td>5</td>\n",
       "      <td>2</td>\n",
       "      <td>3</td>\n",
       "      <td>Monitor</td>\n",
       "      <td>3</td>\n",
       "      <td>ABC</td>\n",
       "    </tr>\n",
       "    <tr>\n",
       "      <th>5</th>\n",
       "      <td>6</td>\n",
       "      <td>3</td>\n",
       "      <td>3</td>\n",
       "      <td>Monitor</td>\n",
       "      <td>2</td>\n",
       "      <td>DEF</td>\n",
       "    </tr>\n",
       "    <tr>\n",
       "      <th>6</th>\n",
       "      <td>7</td>\n",
       "      <td>2</td>\n",
       "      <td>2</td>\n",
       "      <td>RAM</td>\n",
       "      <td>3</td>\n",
       "      <td>ABC</td>\n",
       "    </tr>\n",
       "    <tr>\n",
       "      <th>7</th>\n",
       "      <td>8</td>\n",
       "      <td>3</td>\n",
       "      <td>2</td>\n",
       "      <td>RAM</td>\n",
       "      <td>2</td>\n",
       "      <td>DEF</td>\n",
       "    </tr>\n",
       "    <tr>\n",
       "      <th>8</th>\n",
       "      <td>9</td>\n",
       "      <td>2</td>\n",
       "      <td>3</td>\n",
       "      <td>Monitor</td>\n",
       "      <td>2</td>\n",
       "      <td>ABC</td>\n",
       "    </tr>\n",
       "  </tbody>\n",
       "</table>\n",
       "</div>"
      ],
      "text/plain": [
       "   sale_id  c_id  p_id  product  qty store\n",
       "0        1     2     3  Monitor    2   ABC\n",
       "1        2     2     4      CPU    1   DEF\n",
       "2        3     1     3  Monitor    3   ABC\n",
       "3        4     4     2      RAM    2   DEF\n",
       "4        5     2     3  Monitor    3   ABC\n",
       "5        6     3     3  Monitor    2   DEF\n",
       "6        7     2     2      RAM    3   ABC\n",
       "7        8     3     2      RAM    2   DEF\n",
       "8        9     2     3  Monitor    2   ABC"
      ]
     },
     "execution_count": 63,
     "metadata": {},
     "output_type": "execute_result"
    }
   ],
   "source": [
    "sales = pd.read_csv('./data/sales.csv')\n",
    "sales"
   ]
  },
  {
   "cell_type": "code",
   "execution_count": 64,
   "id": "f02b1b02-23ce-4b6e-bbb6-9d14f32c09f3",
   "metadata": {},
   "outputs": [
    {
     "data": {
      "text/plain": [
       "array(['Monitor', 'CPU', 'RAM'], dtype=object)"
      ]
     },
     "execution_count": 64,
     "metadata": {},
     "output_type": "execute_result"
    }
   ],
   "source": [
    "# resposta a\n",
    "\n",
    "import numpy as np\n",
    "\n",
    "sold = sales['product'].unique()\n",
    "#sold = sold.tolist()\n",
    "sold"
   ]
  },
  {
   "cell_type": "markdown",
   "id": "16a3d1c2-f7d7-4837-9d3e-5508b6ed634b",
   "metadata": {},
   "source": [
    "b) E os não vendidos?"
   ]
  },
  {
   "cell_type": "code",
   "execution_count": 65,
   "id": "a1e106d4-0a4d-43e5-a7c2-ad3246a8fabc",
   "metadata": {},
   "outputs": [
    {
     "data": {
      "text/plain": [
       "['Hard Disk', 'Keyboard', 'Mouse', 'Motherboard', 'Power supply']"
      ]
     },
     "execution_count": 65,
     "metadata": {},
     "output_type": "execute_result"
    }
   ],
   "source": [
    "import numpy as np\n",
    "all_prod = products['product'].unique()\n",
    "#not_sold = not_sold.tolist()\n",
    "not_sold =  [i for i in all_prod if i not in sold]\n",
    "not_sold"
   ]
  },
  {
   "cell_type": "markdown",
   "id": "6a19c63d-c793-4d86-bb74-fa2b81ac9457",
   "metadata": {},
   "source": [
    "c) Quais foram as cinco maiores vendas? Salve essas vendas em um arquivo excel."
   ]
  },
  {
   "cell_type": "code",
   "execution_count": 66,
   "id": "a846c370-f13c-4ab1-ae78-09896aa72428",
   "metadata": {},
   "outputs": [],
   "source": [
    "sort_sales = sales.sort_values('qty', ascending=False)\n",
    "top_five = sort_sales[0:5]\n",
    "top_five.to_excel('./transformed/top_five_sales.xlsx', index=False)"
   ]
  },
  {
   "cell_type": "markdown",
   "id": "5522b8aa-adf2-44ff-81c7-df223b54c702",
   "metadata": {},
   "source": [
    "d) Liste a quantidade vendida de cada produto. Utilize um loop for para isso."
   ]
  },
  {
   "cell_type": "code",
   "execution_count": 81,
   "id": "ee1e88c7-7ccd-4f94-a62f-6c4699645669",
   "metadata": {},
   "outputs": [
    {
     "name": "stdout",
     "output_type": "stream",
     "text": [
      "Monitor: 12 \n",
      "CPU: 1 \n",
      "RAM: 7\n"
     ]
    }
   ],
   "source": [
    "monitor = 0\n",
    "cpu = 0\n",
    "ram = 0\n",
    "\n",
    "for i in range(sales.shape[0]):\n",
    "    if sales.iloc[i]['product'] == 'Monitor':\n",
    "        monitor += sales.iloc[i]['qty']\n",
    "    elif sales.iloc[i]['product'] == 'CPU':\n",
    "        cpu += sales.iloc[i]['qty']\n",
    "    else:\n",
    "        ram += sales.iloc[i]['qty']\n",
    "\n",
    "print(f\"Monitor: {monitor} \\nCPU: {cpu} \\nRAM: {ram}\")"
   ]
  },
  {
   "cell_type": "code",
   "execution_count": 80,
   "id": "63ac5a4a-dddd-46b0-a09e-057dba4803b9",
   "metadata": {},
   "outputs": [
    {
     "data": {
      "text/html": [
       "<div>\n",
       "<style scoped>\n",
       "    .dataframe tbody tr th:only-of-type {\n",
       "        vertical-align: middle;\n",
       "    }\n",
       "\n",
       "    .dataframe tbody tr th {\n",
       "        vertical-align: top;\n",
       "    }\n",
       "\n",
       "    .dataframe thead th {\n",
       "        text-align: right;\n",
       "    }\n",
       "</style>\n",
       "<table border=\"1\" class=\"dataframe\">\n",
       "  <thead>\n",
       "    <tr style=\"text-align: right;\">\n",
       "      <th></th>\n",
       "      <th>sale_id</th>\n",
       "      <th>c_id</th>\n",
       "      <th>p_id</th>\n",
       "      <th>qty</th>\n",
       "    </tr>\n",
       "    <tr>\n",
       "      <th>product</th>\n",
       "      <th></th>\n",
       "      <th></th>\n",
       "      <th></th>\n",
       "      <th></th>\n",
       "    </tr>\n",
       "  </thead>\n",
       "  <tbody>\n",
       "    <tr>\n",
       "      <th>CPU</th>\n",
       "      <td>2</td>\n",
       "      <td>2</td>\n",
       "      <td>4</td>\n",
       "      <td>1</td>\n",
       "    </tr>\n",
       "    <tr>\n",
       "      <th>Monitor</th>\n",
       "      <td>24</td>\n",
       "      <td>10</td>\n",
       "      <td>15</td>\n",
       "      <td>12</td>\n",
       "    </tr>\n",
       "    <tr>\n",
       "      <th>RAM</th>\n",
       "      <td>19</td>\n",
       "      <td>9</td>\n",
       "      <td>6</td>\n",
       "      <td>7</td>\n",
       "    </tr>\n",
       "  </tbody>\n",
       "</table>\n",
       "</div>"
      ],
      "text/plain": [
       "         sale_id  c_id  p_id  qty\n",
       "product                          \n",
       "CPU            2     2     4    1\n",
       "Monitor       24    10    15   12\n",
       "RAM           19     9     6    7"
      ]
     },
     "execution_count": 80,
     "metadata": {},
     "output_type": "execute_result"
    }
   ],
   "source": [
    "sales.groupby(['product']).sum()"
   ]
  },
  {
   "cell_type": "markdown",
   "id": "c89b4022-fa43-498d-992d-fae4b3481fca",
   "metadata": {},
   "source": [
    "e) Liste a quantidade vendida de cada loja."
   ]
  },
  {
   "cell_type": "code",
   "execution_count": 82,
   "id": "ac81a715-40de-43a8-b5ad-06fa162519c8",
   "metadata": {},
   "outputs": [
    {
     "name": "stdout",
     "output_type": "stream",
     "text": [
      "ABC: 13 \n",
      "DEF: 7\n"
     ]
    }
   ],
   "source": [
    "store_abc = 0\n",
    "store_def = 0\n",
    "\n",
    "for i in range(sales.shape[0]):\n",
    "    if sales.iloc[i]['store'] == 'ABC':\n",
    "        store_abc += sales.iloc[i]['qty']\n",
    "    else:\n",
    "        store_def += sales.iloc[i]['qty']\n",
    "    \n",
    "print(f\"ABC: {store_abc} \\nDEF: {store_def}\")"
   ]
  },
  {
   "cell_type": "code",
   "execution_count": 83,
   "id": "09be2429-3f4c-4765-8a6b-3505400da8c3",
   "metadata": {},
   "outputs": [
    {
     "data": {
      "text/html": [
       "<div>\n",
       "<style scoped>\n",
       "    .dataframe tbody tr th:only-of-type {\n",
       "        vertical-align: middle;\n",
       "    }\n",
       "\n",
       "    .dataframe tbody tr th {\n",
       "        vertical-align: top;\n",
       "    }\n",
       "\n",
       "    .dataframe thead th {\n",
       "        text-align: right;\n",
       "    }\n",
       "</style>\n",
       "<table border=\"1\" class=\"dataframe\">\n",
       "  <thead>\n",
       "    <tr style=\"text-align: right;\">\n",
       "      <th></th>\n",
       "      <th>sale_id</th>\n",
       "      <th>c_id</th>\n",
       "      <th>p_id</th>\n",
       "      <th>qty</th>\n",
       "    </tr>\n",
       "    <tr>\n",
       "      <th>store</th>\n",
       "      <th></th>\n",
       "      <th></th>\n",
       "      <th></th>\n",
       "      <th></th>\n",
       "    </tr>\n",
       "  </thead>\n",
       "  <tbody>\n",
       "    <tr>\n",
       "      <th>ABC</th>\n",
       "      <td>25</td>\n",
       "      <td>9</td>\n",
       "      <td>14</td>\n",
       "      <td>13</td>\n",
       "    </tr>\n",
       "    <tr>\n",
       "      <th>DEF</th>\n",
       "      <td>20</td>\n",
       "      <td>12</td>\n",
       "      <td>11</td>\n",
       "      <td>7</td>\n",
       "    </tr>\n",
       "  </tbody>\n",
       "</table>\n",
       "</div>"
      ],
      "text/plain": [
       "       sale_id  c_id  p_id  qty\n",
       "store                          \n",
       "ABC         25     9    14   13\n",
       "DEF         20    12    11    7"
      ]
     },
     "execution_count": 83,
     "metadata": {},
     "output_type": "execute_result"
    }
   ],
   "source": [
    "sales.groupby('store').sum()"
   ]
  },
  {
   "cell_type": "markdown",
   "id": "d4d3df05-8aae-444c-adf1-dc1f33f179dd",
   "metadata": {},
   "source": [
    "f) Liste a quantidade vendida de cada produto por loja."
   ]
  },
  {
   "cell_type": "code",
   "execution_count": 89,
   "id": "db46ab5c-3cb2-4a39-a405-b68ba9190e47",
   "metadata": {},
   "outputs": [
    {
     "name": "stdout",
     "output_type": "stream",
     "text": [
      "Store ABC: \n",
      "-Monitor: 10 \n",
      "-CPU: 0 \n",
      "-RAM: 3 \n",
      "\n",
      "Store DEF: \n",
      "-Monitor: 2 \n",
      "-CPU: 1 \n",
      "-RAM: 4\n"
     ]
    }
   ],
   "source": [
    "monitor_abc = 0\n",
    "cpu_abc = 0\n",
    "ram_abc = 0\n",
    "monitor_def = 0\n",
    "cpu_def = 0\n",
    "ram_def = 0\n",
    "\n",
    "for i in range(sales.shape[0]):\n",
    "    if sales.iloc[i]['store'] == 'ABC':\n",
    "        if sales.iloc[i]['product'] == 'Monitor':\n",
    "            monitor_abc += sales.iloc[i]['qty']\n",
    "        elif sales.iloc[i]['product'] == 'CPU':\n",
    "            cpu_abc += sales.iloc[i]['qty']\n",
    "        else:\n",
    "            ram_abc += sales.iloc[i]['qty']\n",
    "    else:\n",
    "        if sales.iloc[i]['product'] == 'Monitor':\n",
    "            monitor_def += sales.iloc[i]['qty']\n",
    "        elif sales.iloc[i]['product'] == 'CPU':\n",
    "            cpu_def += sales.iloc[i]['qty']\n",
    "        else:\n",
    "            ram_def += sales.iloc[i]['qty']\n",
    "\n",
    "print(f'''Store ABC: \\n-Monitor: {monitor_abc} \\n-CPU: {cpu_abc} \\n-RAM: {ram_abc} \\n\n",
    "Store DEF: \\n-Monitor: {monitor_def} \\n-CPU: {cpu_def} \\n-RAM: {ram_def}''')"
   ]
  },
  {
   "cell_type": "code",
   "execution_count": 90,
   "id": "bc862650-00f9-4f20-b921-3ed1e2cb7e9e",
   "metadata": {},
   "outputs": [
    {
     "data": {
      "text/html": [
       "<div>\n",
       "<style scoped>\n",
       "    .dataframe tbody tr th:only-of-type {\n",
       "        vertical-align: middle;\n",
       "    }\n",
       "\n",
       "    .dataframe tbody tr th {\n",
       "        vertical-align: top;\n",
       "    }\n",
       "\n",
       "    .dataframe thead th {\n",
       "        text-align: right;\n",
       "    }\n",
       "</style>\n",
       "<table border=\"1\" class=\"dataframe\">\n",
       "  <thead>\n",
       "    <tr style=\"text-align: right;\">\n",
       "      <th></th>\n",
       "      <th></th>\n",
       "      <th>sale_id</th>\n",
       "      <th>c_id</th>\n",
       "      <th>p_id</th>\n",
       "      <th>qty</th>\n",
       "    </tr>\n",
       "    <tr>\n",
       "      <th>store</th>\n",
       "      <th>product</th>\n",
       "      <th></th>\n",
       "      <th></th>\n",
       "      <th></th>\n",
       "      <th></th>\n",
       "    </tr>\n",
       "  </thead>\n",
       "  <tbody>\n",
       "    <tr>\n",
       "      <th rowspan=\"2\" valign=\"top\">ABC</th>\n",
       "      <th>Monitor</th>\n",
       "      <td>18</td>\n",
       "      <td>7</td>\n",
       "      <td>12</td>\n",
       "      <td>10</td>\n",
       "    </tr>\n",
       "    <tr>\n",
       "      <th>RAM</th>\n",
       "      <td>7</td>\n",
       "      <td>2</td>\n",
       "      <td>2</td>\n",
       "      <td>3</td>\n",
       "    </tr>\n",
       "    <tr>\n",
       "      <th rowspan=\"3\" valign=\"top\">DEF</th>\n",
       "      <th>CPU</th>\n",
       "      <td>2</td>\n",
       "      <td>2</td>\n",
       "      <td>4</td>\n",
       "      <td>1</td>\n",
       "    </tr>\n",
       "    <tr>\n",
       "      <th>Monitor</th>\n",
       "      <td>6</td>\n",
       "      <td>3</td>\n",
       "      <td>3</td>\n",
       "      <td>2</td>\n",
       "    </tr>\n",
       "    <tr>\n",
       "      <th>RAM</th>\n",
       "      <td>12</td>\n",
       "      <td>7</td>\n",
       "      <td>4</td>\n",
       "      <td>4</td>\n",
       "    </tr>\n",
       "  </tbody>\n",
       "</table>\n",
       "</div>"
      ],
      "text/plain": [
       "               sale_id  c_id  p_id  qty\n",
       "store product                          \n",
       "ABC   Monitor       18     7    12   10\n",
       "      RAM            7     2     2    3\n",
       "DEF   CPU            2     2     4    1\n",
       "      Monitor        6     3     3    2\n",
       "      RAM           12     7     4    4"
      ]
     },
     "execution_count": 90,
     "metadata": {},
     "output_type": "execute_result"
    }
   ],
   "source": [
    "sales.groupby(['store','product']).sum()"
   ]
  }
 ],
 "metadata": {
  "kernelspec": {
   "display_name": "Python 3",
   "language": "python",
   "name": "python3"
  },
  "language_info": {
   "codemirror_mode": {
    "name": "ipython",
    "version": 3
   },
   "file_extension": ".py",
   "mimetype": "text/x-python",
   "name": "python",
   "nbconvert_exporter": "python",
   "pygments_lexer": "ipython3",
   "version": "3.8.8"
  }
 },
 "nbformat": 4,
 "nbformat_minor": 5
}
